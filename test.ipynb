{
 "cells": [
  {
   "cell_type": "code",
   "execution_count": 40,
   "metadata": {},
   "outputs": [
    {
     "name": "stderr",
     "output_type": "stream",
     "text": [
      "C:\\Users\\user\\AppData\\Local\\Temp\\ipykernel_18152\\495000605.py:32: FutureWarning: The frame.append method is deprecated and will be removed from pandas in a future version. Use pandas.concat instead.\n",
      "  pv = pv.append(pv_.iloc[-1])\n",
      "C:\\Users\\user\\AppData\\Local\\Temp\\ipykernel_18152\\495000605.py:37: FutureWarning: The frame.append method is deprecated and will be removed from pandas in a future version. Use pandas.concat instead.\n",
      "  net_load = net_load.append(net_load_.iloc[-1])\n"
     ]
    },
    {
     "ename": "KeyError",
     "evalue": "210108",
     "output_type": "error",
     "traceback": [
      "\u001b[1;31m---------------------------------------------------------------------------\u001b[0m",
      "\u001b[1;31mKeyError\u001b[0m                                  Traceback (most recent call last)",
      "File \u001b[1;32mc:\\Users\\user\\anaconda3\\envs\\yekim\\lib\\site-packages\\pandas\\core\\indexes\\base.py:3803\u001b[0m, in \u001b[0;36mIndex.get_loc\u001b[1;34m(self, key, method, tolerance)\u001b[0m\n\u001b[0;32m   3802\u001b[0m \u001b[39mtry\u001b[39;00m:\n\u001b[1;32m-> 3803\u001b[0m     \u001b[39mreturn\u001b[39;00m \u001b[39mself\u001b[39;49m\u001b[39m.\u001b[39;49m_engine\u001b[39m.\u001b[39;49mget_loc(casted_key)\n\u001b[0;32m   3804\u001b[0m \u001b[39mexcept\u001b[39;00m \u001b[39mKeyError\u001b[39;00m \u001b[39mas\u001b[39;00m err:\n",
      "File \u001b[1;32mc:\\Users\\user\\anaconda3\\envs\\yekim\\lib\\site-packages\\pandas\\_libs\\index.pyx:138\u001b[0m, in \u001b[0;36mpandas._libs.index.IndexEngine.get_loc\u001b[1;34m()\u001b[0m\n",
      "File \u001b[1;32mc:\\Users\\user\\anaconda3\\envs\\yekim\\lib\\site-packages\\pandas\\_libs\\index.pyx:165\u001b[0m, in \u001b[0;36mpandas._libs.index.IndexEngine.get_loc\u001b[1;34m()\u001b[0m\n",
      "File \u001b[1;32mpandas\\_libs\\hashtable_class_helper.pxi:2263\u001b[0m, in \u001b[0;36mpandas._libs.hashtable.Int64HashTable.get_item\u001b[1;34m()\u001b[0m\n",
      "File \u001b[1;32mpandas\\_libs\\hashtable_class_helper.pxi:2273\u001b[0m, in \u001b[0;36mpandas._libs.hashtable.Int64HashTable.get_item\u001b[1;34m()\u001b[0m\n",
      "\u001b[1;31mKeyError\u001b[0m: 210108",
      "\nThe above exception was the direct cause of the following exception:\n",
      "\u001b[1;31mKeyError\u001b[0m                                  Traceback (most recent call last)",
      "Cell \u001b[1;32mIn[40], line 72\u001b[0m\n\u001b[0;32m     69\u001b[0m \u001b[39mimport\u001b[39;00m \u001b[39mpandas\u001b[39;00m \u001b[39mas\u001b[39;00m \u001b[39mpd\u001b[39;00m\n\u001b[0;32m     70\u001b[0m \u001b[39mimport\u001b[39;00m \u001b[39mmatplotlib\u001b[39;00m\u001b[39m.\u001b[39;00m\u001b[39mpyplot\u001b[39;00m \u001b[39mas\u001b[39;00m \u001b[39mplt\u001b[39;00m\n\u001b[1;32m---> 72\u001b[0m check(\u001b[39m'\u001b[39;49m\u001b[39mRISE\u001b[39;49m\u001b[39m'\u001b[39;49m)\n\u001b[0;32m     73\u001b[0m check(\u001b[39m'\u001b[39m\u001b[39mDORM\u001b[39m\u001b[39m'\u001b[39m)\n\u001b[0;32m     74\u001b[0m check(\u001b[39m'\u001b[39m\u001b[39mMACH\u001b[39m\u001b[39m'\u001b[39m)\n",
      "Cell \u001b[1;32mIn[40], line 40\u001b[0m, in \u001b[0;36mcheck\u001b[1;34m(building)\u001b[0m\n\u001b[0;32m     37\u001b[0m net_load \u001b[39m=\u001b[39m net_load\u001b[39m.\u001b[39mappend(net_load_\u001b[39m.\u001b[39miloc[\u001b[39m-\u001b[39m\u001b[39m1\u001b[39m])\n\u001b[0;32m     39\u001b[0m \u001b[39mfor\u001b[39;00m idx \u001b[39min\u001b[39;00m idxarr:\n\u001b[1;32m---> 40\u001b[0m     pv_row \u001b[39m=\u001b[39m pv\u001b[39m.\u001b[39;49mloc[idx]\n\u001b[0;32m     41\u001b[0m     netload_row \u001b[39m=\u001b[39m net_load\u001b[39m.\u001b[39mloc[idx]\n\u001b[0;32m     42\u001b[0m     \u001b[39mif\u001b[39;00m idx \u001b[39m!=\u001b[39m \u001b[39m'\u001b[39m\u001b[39m211230\u001b[39m\u001b[39m'\u001b[39m:\n",
      "File \u001b[1;32mc:\\Users\\user\\anaconda3\\envs\\yekim\\lib\\site-packages\\pandas\\core\\indexing.py:1073\u001b[0m, in \u001b[0;36m_LocationIndexer.__getitem__\u001b[1;34m(self, key)\u001b[0m\n\u001b[0;32m   1070\u001b[0m axis \u001b[39m=\u001b[39m \u001b[39mself\u001b[39m\u001b[39m.\u001b[39maxis \u001b[39mor\u001b[39;00m \u001b[39m0\u001b[39m\n\u001b[0;32m   1072\u001b[0m maybe_callable \u001b[39m=\u001b[39m com\u001b[39m.\u001b[39mapply_if_callable(key, \u001b[39mself\u001b[39m\u001b[39m.\u001b[39mobj)\n\u001b[1;32m-> 1073\u001b[0m \u001b[39mreturn\u001b[39;00m \u001b[39mself\u001b[39;49m\u001b[39m.\u001b[39;49m_getitem_axis(maybe_callable, axis\u001b[39m=\u001b[39;49maxis)\n",
      "File \u001b[1;32mc:\\Users\\user\\anaconda3\\envs\\yekim\\lib\\site-packages\\pandas\\core\\indexing.py:1312\u001b[0m, in \u001b[0;36m_LocIndexer._getitem_axis\u001b[1;34m(self, key, axis)\u001b[0m\n\u001b[0;32m   1310\u001b[0m \u001b[39m# fall thru to straight lookup\u001b[39;00m\n\u001b[0;32m   1311\u001b[0m \u001b[39mself\u001b[39m\u001b[39m.\u001b[39m_validate_key(key, axis)\n\u001b[1;32m-> 1312\u001b[0m \u001b[39mreturn\u001b[39;00m \u001b[39mself\u001b[39;49m\u001b[39m.\u001b[39;49m_get_label(key, axis\u001b[39m=\u001b[39;49maxis)\n",
      "File \u001b[1;32mc:\\Users\\user\\anaconda3\\envs\\yekim\\lib\\site-packages\\pandas\\core\\indexing.py:1260\u001b[0m, in \u001b[0;36m_LocIndexer._get_label\u001b[1;34m(self, label, axis)\u001b[0m\n\u001b[0;32m   1258\u001b[0m \u001b[39mdef\u001b[39;00m \u001b[39m_get_label\u001b[39m(\u001b[39mself\u001b[39m, label, axis: \u001b[39mint\u001b[39m):\n\u001b[0;32m   1259\u001b[0m     \u001b[39m# GH#5567 this will fail if the label is not present in the axis.\u001b[39;00m\n\u001b[1;32m-> 1260\u001b[0m     \u001b[39mreturn\u001b[39;00m \u001b[39mself\u001b[39;49m\u001b[39m.\u001b[39;49mobj\u001b[39m.\u001b[39;49mxs(label, axis\u001b[39m=\u001b[39;49maxis)\n",
      "File \u001b[1;32mc:\\Users\\user\\anaconda3\\envs\\yekim\\lib\\site-packages\\pandas\\core\\generic.py:4056\u001b[0m, in \u001b[0;36mNDFrame.xs\u001b[1;34m(self, key, axis, level, drop_level)\u001b[0m\n\u001b[0;32m   4054\u001b[0m             new_index \u001b[39m=\u001b[39m index[loc]\n\u001b[0;32m   4055\u001b[0m \u001b[39melse\u001b[39;00m:\n\u001b[1;32m-> 4056\u001b[0m     loc \u001b[39m=\u001b[39m index\u001b[39m.\u001b[39;49mget_loc(key)\n\u001b[0;32m   4058\u001b[0m     \u001b[39mif\u001b[39;00m \u001b[39misinstance\u001b[39m(loc, np\u001b[39m.\u001b[39mndarray):\n\u001b[0;32m   4059\u001b[0m         \u001b[39mif\u001b[39;00m loc\u001b[39m.\u001b[39mdtype \u001b[39m==\u001b[39m np\u001b[39m.\u001b[39mbool_:\n",
      "File \u001b[1;32mc:\\Users\\user\\anaconda3\\envs\\yekim\\lib\\site-packages\\pandas\\core\\indexes\\base.py:3805\u001b[0m, in \u001b[0;36mIndex.get_loc\u001b[1;34m(self, key, method, tolerance)\u001b[0m\n\u001b[0;32m   3803\u001b[0m     \u001b[39mreturn\u001b[39;00m \u001b[39mself\u001b[39m\u001b[39m.\u001b[39m_engine\u001b[39m.\u001b[39mget_loc(casted_key)\n\u001b[0;32m   3804\u001b[0m \u001b[39mexcept\u001b[39;00m \u001b[39mKeyError\u001b[39;00m \u001b[39mas\u001b[39;00m err:\n\u001b[1;32m-> 3805\u001b[0m     \u001b[39mraise\u001b[39;00m \u001b[39mKeyError\u001b[39;00m(key) \u001b[39mfrom\u001b[39;00m \u001b[39merr\u001b[39;00m\n\u001b[0;32m   3806\u001b[0m \u001b[39mexcept\u001b[39;00m \u001b[39mTypeError\u001b[39;00m:\n\u001b[0;32m   3807\u001b[0m     \u001b[39m# If we have a listlike key, _check_indexing_error will raise\u001b[39;00m\n\u001b[0;32m   3808\u001b[0m     \u001b[39m#  InvalidIndexError. Otherwise we fall through and re-raise\u001b[39;00m\n\u001b[0;32m   3809\u001b[0m     \u001b[39m#  the TypeError.\u001b[39;00m\n\u001b[0;32m   3810\u001b[0m     \u001b[39mself\u001b[39m\u001b[39m.\u001b[39m_check_indexing_error(key)\n",
      "\u001b[1;31mKeyError\u001b[0m: 210108"
     ]
    }
   ],
   "source": [
    "def get_label_interval(X):\n",
    "    label_interval = []\n",
    "    for i in range(1, 13):\n",
    "        cnt = 0\n",
    "        for idx in X.index:\n",
    "            if '21{0:0>2}'.format(i) in str(idx):\n",
    "                cnt+=1\n",
    "        label_interval.append(cnt)\n",
    "    return label_interval\n",
    "\n",
    "def plot(interval, i, data):\n",
    "    start = sum(interval[0:i])\n",
    "    end = sum(interval[0:-1])\n",
    "    days = sum(interval[i:-1])\n",
    "    print(f'start: {start}, end: {end}, days: {days}, start*24: {start*24}, end*24: {end*24}')\n",
    "    \n",
    "    fig = plt.figure(figsize=(20, 5))\n",
    "    plt.plot(data[start*24:end*24])\n",
    "    \n",
    "    s = sum(data[start*24:end*24])\n",
    "    m = s/days\n",
    "    print(round(m,4))\n",
    "\n",
    "\n",
    "def check(building):\n",
    "    X_path = f'./processed_data/load/{building}_2021_load.csv'\n",
    "    X = pd.read_csv(X_path, index_col=0)\n",
    "    idxarr = list(X.index)\n",
    "    \n",
    "    pv = pd.read_csv(f'./processed_data/pv/X_pv_231days_{building}.csv', index_col = 0)\n",
    "    pv_ = pd.read_csv(f'./processed_data/pv/Y_pv_231days_{building}.csv', index_col = 0)\n",
    "    pv = pv.append(pv_.iloc[-1])\n",
    "    pv = pv.iloc[:, 0:24]\n",
    "\n",
    "    net_load = pd.read_csv(f'./processed_data/netload/X_netload_231days_{building}.csv', index_col=0 )\n",
    "    net_load_ = pd.read_csv(f'./processed_data/netload/Y_netload_231days_{building}.csv', index_col=0 )\n",
    "    net_load = net_load.append(net_load_.iloc[-1])\n",
    "\n",
    "    for idx in idxarr:\n",
    "        pv_row = pv.loc[idx]\n",
    "        netload_row = net_load.loc[idx]\n",
    "        if idx != '211230':\n",
    "            X_row = X.loc[idx]\n",
    "        elif idx == '211230':\n",
    "            break\n",
    "        for j in range(24):\n",
    "            if pv_row[j] < 0:\n",
    "                pv_row[j] = 0\n",
    "            if int(X_row[j]) != int(pv_row[j] + netload_row[j]):\n",
    "                print(f'idx: {idx},     j: {j},    X_row: {X_row[j]},     pv: {pv_row[j]},     netload: {netload_row[j]},    pv+netload: {pv_row[j] + netload_row[j]}')\n",
    "    \n",
    "    \n",
    "    # interval = get_label_interval(X)\n",
    "    # load = X.values.reshape(-1)\n",
    "    # pv = pv.values.reshape(-1)\n",
    "    # netload = net_load.values.reshape(-1)\n",
    "    \n",
    "    # data = load\n",
    "    # plot(interval, 0, data)\n",
    "    # plot(interval, 0, netload)\n",
    "    # plot(interval, 0, pv)\n",
    "    # # plot(interval, 1, data)\n",
    "    # # plot(interval, 2, data)\n",
    "    # # plot(interval, 3, data)\n",
    "    \n",
    "    # # print((load.mean))\n",
    "\n",
    "        \n",
    "import pandas as pd\n",
    "import matplotlib.pyplot as plt\n",
    "\n",
    "check('RISE')\n",
    "check('DORM')\n",
    "check('MACH')\n",
    "\n",
    "    "
   ]
  },
  {
   "cell_type": "code",
   "execution_count": 20,
   "metadata": {},
   "outputs": [
    {
     "data": {
      "text/plain": [
       "1368"
      ]
     },
     "execution_count": 20,
     "metadata": {},
     "output_type": "execute_result"
    }
   ],
   "source": [
    "57*24"
   ]
  }
 ],
 "metadata": {
  "kernelspec": {
   "display_name": "yekim",
   "language": "python",
   "name": "python3"
  },
  "language_info": {
   "codemirror_mode": {
    "name": "ipython",
    "version": 3
   },
   "file_extension": ".py",
   "mimetype": "text/x-python",
   "name": "python",
   "nbconvert_exporter": "python",
   "pygments_lexer": "ipython3",
   "version": "3.8.15"
  },
  "orig_nbformat": 4,
  "vscode": {
   "interpreter": {
    "hash": "1b57ea3f3af76f29997891c4065cf3255bb70d2ef143274e28171fc22d0d1b78"
   }
  }
 },
 "nbformat": 4,
 "nbformat_minor": 2
}
