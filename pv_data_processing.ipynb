{
 "cells": [
  {
   "cell_type": "code",
   "execution_count": 61,
   "metadata": {},
   "outputs": [],
   "source": [
    "import pandas as pd\n",
    "import numpy as np\n",
    "\n",
    "\n",
    "# import calendar file\n",
    "cal = pd.read_excel('./processed_data/2021_cal_flag.xlsx',\n",
    "                    index_col=0, header=0)\n",
    "\n",
    "# extract and combine needed colums from net load excel files into one dataframe temp and then divide them into week and weekend\n",
    "basic_path = './preprocessed_data/netload_forecasting/GIST energy data/2021 PV/태양광 일보.gcf_2021-'\n",
    "\n",
    "\n",
    "# month list of months having only 30 days\n",
    "thirty_month = [4, 6, 9, 11]\n",
    "\n",
    "df = pd.DataFrame\n",
    "week = pd.DataFrame\n",
    "weekend = pd.DataFrame"
   ]
  },
  {
   "cell_type": "code",
   "execution_count": 62,
   "metadata": {},
   "outputs": [
    {
     "name": "stdout",
     "output_type": "stream",
     "text": [
      "This month is finished.  210131\n",
      "This month is finished.  210228\n",
      "This month is finished.  210331\n",
      "This month is finished.  210430\n",
      "This month is finished.  210531\n",
      "This month is finished.  210630\n",
      "This month is finished.  210731\n",
      "This month is finished.  210831\n",
      "This month is finished.  210930\n",
      "This month is finished.  211031\n",
      "This month is finished.  211130\n",
      "missing data! / month:  12  date:  22\n",
      "missing data! / month:  12  date:  23\n",
      "missing data! / month:  12  date:  24\n",
      "This month is finished.  211231\n"
     ]
    }
   ],
   "source": [
    "for month in range(1, 13):\n",
    "    if month == 2:\n",
    "        end_date = 28\n",
    "    elif month in thirty_month:\n",
    "        end_date = 30\n",
    "    else:\n",
    "        end_date = 31\n",
    "\n",
    "    # there isn't data of end of month like 30th or 31st\n",
    "    for day in range(1, end_date+1):\n",
    "\n",
    "        # check if the date is weekend and holiday or not\n",
    "        date = f'21{month:0>2}{day:0>2}'\n",
    "        file_path = f'{basic_path}{month:0>2}-{day:0>2}_.xls'\n",
    "        \n",
    "        if date == '211224':   # check if the date is 211224(updated on 23.02.24)\n",
    "            temp = pd.DataFrame(index=range(24), columns=[date]).astype(float)\n",
    "            temp[:] = np.nan\n",
    "            print('missing data! / month: ', month, ' date: ', day)\n",
    "            continue\n",
    "        \n",
    "        try:\n",
    "            # exclude missing data\n",
    "            temp = pd.read_excel(file_path,  header=[3, 4, 5]).iloc[0:24, [26]]\n",
    "        except FileNotFoundError:\n",
    "            # linear interpolation to fill missing data\n",
    "            # read data as NaN for missing data\n",
    "            temp = pd.DataFrame(index=range(24), columns=[date]).astype(float)\n",
    "            temp[:] = np.nan\n",
    "            print('missing data! / month: ', month, ' date: ', day)\n",
    "            # continue\n",
    "        \n",
    "        temp.reindex(range(24))\n",
    "        temp.columns = [date]\n",
    "\n",
    "        if month == 1 and day == 1:\n",
    "            df = temp\n",
    "        else:\n",
    "            df = pd.concat([df, temp], axis=1)\n",
    "\n",
    "    print('This month is finished. ', date)\n",
    "    \n",
    "            \n",
    "# perform linear interpolation\n",
    "df = df.transpose()\n",
    "df.index = pd.to_numeric(df.index)\n",
    "df = df.interpolate(method='akima', axis=0)\n",
    "\n",
    "# change negative value to 0 in df because the interpolated values are not all positive or zero\n",
    "df[df < 0] = 0\n",
    "\n",
    "df.to_csv(\"./processed_data/pv/week_2021_PV_sun_to_mon.csv\")\n"
   ]
  },
  {
   "cell_type": "code",
   "execution_count": null,
   "metadata": {},
   "outputs": [],
   "source": []
  }
 ],
 "metadata": {
  "kernelspec": {
   "display_name": "yekim",
   "language": "python",
   "name": "python3"
  },
  "language_info": {
   "codemirror_mode": {
    "name": "ipython",
    "version": 3
   },
   "file_extension": ".py",
   "mimetype": "text/x-python",
   "name": "python",
   "nbconvert_exporter": "python",
   "pygments_lexer": "ipython3",
   "version": "3.8.15"
  },
  "orig_nbformat": 4
 },
 "nbformat": 4,
 "nbformat_minor": 2
}
